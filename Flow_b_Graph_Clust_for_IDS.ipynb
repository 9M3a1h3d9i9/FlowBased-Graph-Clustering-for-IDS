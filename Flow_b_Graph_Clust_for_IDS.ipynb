{
 "cells": [
  {
   "cell_type": "markdown",
   "id": "f3acad44",
   "metadata": {},
   "source": [
    "# In the name of Allah"
   ]
  },
  {
   "cell_type": "code",
   "execution_count": null,
   "id": "ff441663",
   "metadata": {
    "vscode": {
     "languageId": "plaintext"
    }
   },
   "outputs": [],
   "source": []
  }
 ],
 "metadata": {
  "language_info": {
   "name": "python"
  }
 },
 "nbformat": 4,
 "nbformat_minor": 5
}
